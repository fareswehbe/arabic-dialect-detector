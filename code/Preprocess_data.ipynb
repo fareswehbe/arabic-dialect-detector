{
 "cells": [
  {
   "cell_type": "code",
   "execution_count": 1,
   "id": "a61e2a4e-c85d-4817-ad4c-ade1428521d1",
   "metadata": {
    "tags": []
   },
   "outputs": [],
   "source": [
    "from collections import Counter\n",
    "import matplotlib.pyplot as plt\n",
    "import seaborn as sns\n",
    "from bidi import algorithm as bidialg\n",
    "import arabic_reshaper\n",
    "import pandas as pd\n"
   ]
  },
  {
   "cell_type": "code",
   "execution_count": 2,
   "id": "2344cf4e-d5be-4ce4-aebc-79ef32d2d18d",
   "metadata": {
    "tags": []
   },
   "outputs": [
    {
     "data": {
      "text/html": [
       "<div>\n",
       "<style scoped>\n",
       "    .dataframe tbody tr th:only-of-type {\n",
       "        vertical-align: middle;\n",
       "    }\n",
       "\n",
       "    .dataframe tbody tr th {\n",
       "        vertical-align: top;\n",
       "    }\n",
       "\n",
       "    .dataframe thead th {\n",
       "        text-align: right;\n",
       "    }\n",
       "</style>\n",
       "<table border=\"1\" class=\"dataframe\">\n",
       "  <thead>\n",
       "    <tr style=\"text-align: right;\">\n",
       "      <th></th>\n",
       "      <th>sentence</th>\n",
       "      <th>dialect</th>\n",
       "    </tr>\n",
       "  </thead>\n",
       "  <tbody>\n",
       "    <tr>\n",
       "      <th>0</th>\n",
       "      <td>ياخي المدرب أختاره والمدرب دخله والمدرب بارك ا...</td>\n",
       "      <td>AE</td>\n",
       "    </tr>\n",
       "    <tr>\n",
       "      <th>1</th>\n",
       "      <td>شو الي قاعد يجري فالنصر يا أخوه خسر المباراة س...</td>\n",
       "      <td>AE</td>\n",
       "    </tr>\n",
       "    <tr>\n",
       "      <th>2</th>\n",
       "      <td>الي يبحث عن مشكلة الوصل راح يحصلها فالجولان</td>\n",
       "      <td>AE</td>\n",
       "    </tr>\n",
       "    <tr>\n",
       "      <th>3</th>\n",
       "      <td>انا مش معترض على تغير عامر الي دخل مكان عامر ا...</td>\n",
       "      <td>AE</td>\n",
       "    </tr>\n",
       "    <tr>\n",
       "      <th>4</th>\n",
       "      <td>تراجع مخيف في مستوى الحارس الكبير ماجد ناصر مش...</td>\n",
       "      <td>AE</td>\n",
       "    </tr>\n",
       "    <tr>\n",
       "      <th>...</th>\n",
       "      <td>...</td>\n",
       "      <td>...</td>\n",
       "    </tr>\n",
       "    <tr>\n",
       "      <th>365714</th>\n",
       "      <td>هل لك أن تسمح بالتقاط صورة لك معنا</td>\n",
       "      <td>MSA</td>\n",
       "    </tr>\n",
       "    <tr>\n",
       "      <th>365715</th>\n",
       "      <td>هل لديك سمك مقلي</td>\n",
       "      <td>MSA</td>\n",
       "    </tr>\n",
       "    <tr>\n",
       "      <th>365716</th>\n",
       "      <td>هل يمكني استئجار مرشدا يتحدث الغة اليابانية</td>\n",
       "      <td>MSA</td>\n",
       "    </tr>\n",
       "    <tr>\n",
       "      <th>365717</th>\n",
       "      <td>أيهما تعتقد أنها أفضل كهدية لصبي عمره ثماني سنوات</td>\n",
       "      <td>MSA</td>\n",
       "    </tr>\n",
       "    <tr>\n",
       "      <th>365718</th>\n",
       "      <td>تعني في نطاق المدينة</td>\n",
       "      <td>MSA</td>\n",
       "    </tr>\n",
       "  </tbody>\n",
       "</table>\n",
       "<p>365719 rows × 2 columns</p>\n",
       "</div>"
      ],
      "text/plain": [
       "                                                 sentence dialect\n",
       "0       ياخي المدرب أختاره والمدرب دخله والمدرب بارك ا...      AE\n",
       "1       شو الي قاعد يجري فالنصر يا أخوه خسر المباراة س...      AE\n",
       "2             الي يبحث عن مشكلة الوصل راح يحصلها فالجولان      AE\n",
       "3       انا مش معترض على تغير عامر الي دخل مكان عامر ا...      AE\n",
       "4       تراجع مخيف في مستوى الحارس الكبير ماجد ناصر مش...      AE\n",
       "...                                                   ...     ...\n",
       "365714                 هل لك أن تسمح بالتقاط صورة لك معنا     MSA\n",
       "365715                                   هل لديك سمك مقلي     MSA\n",
       "365716        هل يمكني استئجار مرشدا يتحدث الغة اليابانية     MSA\n",
       "365717  أيهما تعتقد أنها أفضل كهدية لصبي عمره ثماني سنوات     MSA\n",
       "365718                               تعني في نطاق المدينة     MSA\n",
       "\n",
       "[365719 rows x 2 columns]"
      ]
     },
     "execution_count": 2,
     "metadata": {},
     "output_type": "execute_result"
    }
   ],
   "source": [
    "data = pd.read_csv('../data/arabic_dialect_dataset.csv')\n",
    "data"
   ]
  },
  {
   "cell_type": "code",
   "execution_count": 3,
   "id": "d1ba2ade-ee7e-45b1-9a92-7b91e77cbc71",
   "metadata": {
    "tags": []
   },
   "outputs": [
    {
     "data": {
      "text/plain": [
       "dialect\n",
       "AE     20000\n",
       "BH     20000\n",
       "TN     20000\n",
       "SY     20000\n",
       "SA     20000\n",
       "QA     20000\n",
       "PL     20000\n",
       "OM     20000\n",
       "MSA    20000\n",
       "MA     20000\n",
       "LY     20000\n",
       "LB     20000\n",
       "KW     20000\n",
       "JO     20000\n",
       "IQ     20000\n",
       "EG     20000\n",
       "DZ     20000\n",
       "SD     14481\n",
       "YE     11238\n",
       "dtype: int64"
      ]
     },
     "execution_count": 3,
     "metadata": {},
     "output_type": "execute_result"
    }
   ],
   "source": [
    "data.value_counts('dialect')"
   ]
  },
  {
   "cell_type": "code",
   "execution_count": 4,
   "id": "192e3263-03ca-4b10-9ccd-a6b10654a957",
   "metadata": {
    "tags": []
   },
   "outputs": [
    {
     "data": {
      "text/plain": [
       "<AxesSubplot: >"
      ]
     },
     "execution_count": 4,
     "metadata": {},
     "output_type": "execute_result"
    },
    {
     "data": {
      "image/png": "[encoded data removed]",
      "text/plain": [
       "<Figure size 1200x800 with 1 Axes>"
      ]
     },
     "metadata": {},
     "output_type": "display_data"
    }
   ],
   "source": [
    "all_words = ' '.join([text for text in data['sentence']])\n",
    "all_words = all_words.split()\n",
    "\n",
    "Counter = Counter(all_words)\n",
    "most_common = Counter.most_common()\n",
    "x, y = [], []\n",
    "for word, count in most_common[:40]:\n",
    "    word=bidialg.get_display(arabic_reshaper.reshape(word))\n",
    "    x.append(word)\n",
    "    y.append(count)\n",
    "\n",
    "plt.figure(figsize=(15, 10), dpi=80)\n",
    "sns.barplot(x=y,y=x)"
   ]
  },
  {
   "cell_type": "code",
   "execution_count": 5,
   "id": "6bd50861-ff89-49e3-b14a-751b46d762c2",
   "metadata": {
    "tags": []
   },
   "outputs": [],
   "source": [
    "def freq_words_removal(text, lst_words):\n",
    "    lst_text = text.split()\n",
    "    if lst_words is not None:\n",
    "        lst_text = [word for word in lst_text if word not in lst_words]\n",
    "    text = \" \".join(lst_text)\n",
    "    return text"
   ]
  },
  {
   "cell_type": "code",
   "execution_count": 6,
   "id": "7c1f578b-5520-4937-a50c-10edf4cec6a6",
   "metadata": {
    "tags": []
   },
   "outputs": [
    {
     "data": {
      "text/html": [
       "<div>\n",
       "<style scoped>\n",
       "    .dataframe tbody tr th:only-of-type {\n",
       "        vertical-align: middle;\n",
       "    }\n",
       "\n",
       "    .dataframe tbody tr th {\n",
       "        vertical-align: top;\n",
       "    }\n",
       "\n",
       "    .dataframe thead th {\n",
       "        text-align: right;\n",
       "    }\n",
       "</style>\n",
       "<table border=\"1\" class=\"dataframe\">\n",
       "  <thead>\n",
       "    <tr style=\"text-align: right;\">\n",
       "      <th></th>\n",
       "      <th>sentence</th>\n",
       "      <th>dialect</th>\n",
       "      <th>sentence_clean</th>\n",
       "    </tr>\n",
       "  </thead>\n",
       "  <tbody>\n",
       "    <tr>\n",
       "      <th>0</th>\n",
       "      <td>ياخي المدرب أختاره والمدرب دخله والمدرب بارك ا...</td>\n",
       "      <td>AE</td>\n",
       "      <td>ياخي المدرب أختاره والمدرب دخله والمدرب بارك ا...</td>\n",
       "    </tr>\n",
       "    <tr>\n",
       "      <th>1</th>\n",
       "      <td>شو الي قاعد يجري فالنصر يا أخوه خسر المباراة س...</td>\n",
       "      <td>AE</td>\n",
       "      <td>شو قاعد يجري فالنصر يا أخوه خسر المباراة سقطة ...</td>\n",
       "    </tr>\n",
       "    <tr>\n",
       "      <th>2</th>\n",
       "      <td>الي يبحث عن مشكلة الوصل راح يحصلها فالجولان</td>\n",
       "      <td>AE</td>\n",
       "      <td>يبحث عن مشكلة الوصل راح يحصلها فالجولان</td>\n",
       "    </tr>\n",
       "    <tr>\n",
       "      <th>3</th>\n",
       "      <td>انا مش معترض على تغير عامر الي دخل مكان عامر ا...</td>\n",
       "      <td>AE</td>\n",
       "      <td>مش معترض تغير عامر دخل مكان عامر المفترض ريان ...</td>\n",
       "    </tr>\n",
       "    <tr>\n",
       "      <th>4</th>\n",
       "      <td>تراجع مخيف في مستوى الحارس الكبير ماجد ناصر مش...</td>\n",
       "      <td>AE</td>\n",
       "      <td>تراجع مخيف مستوى الحارس الكبير ماجد ناصر مش ما...</td>\n",
       "    </tr>\n",
       "    <tr>\n",
       "      <th>5</th>\n",
       "      <td>يا بسومي عموري طلع بموافقة صاحب القرار مش بكيف...</td>\n",
       "      <td>AE</td>\n",
       "      <td>يا بسومي عموري طلع بموافقة صاحب القرار مش بكيف...</td>\n",
       "    </tr>\n",
       "    <tr>\n",
       "      <th>6</th>\n",
       "      <td>خل ينفعكم الي ينابح فالموسم الماضي صراخه وصل ش...</td>\n",
       "      <td>AE</td>\n",
       "      <td>خل ينفعكم ينابح فالموسم الماضي صراخه وصل شعم و...</td>\n",
       "    </tr>\n",
       "    <tr>\n",
       "      <th>7</th>\n",
       "      <td>لسه بدري عالشتويه قول إن شاءاله بس ما تطلع مشك...</td>\n",
       "      <td>AE</td>\n",
       "      <td>لسه بدري عالشتويه قول إن شاءاله بس تطلع مشكلة ...</td>\n",
       "    </tr>\n",
       "    <tr>\n",
       "      <th>8</th>\n",
       "      <td>ليش متشائم الفريق يوم ما يكون في حالته الفنيه ...</td>\n",
       "      <td>AE</td>\n",
       "      <td>ليش متشائم الفريق يوم يكون حالته الفنيه والذهن...</td>\n",
       "    </tr>\n",
       "    <tr>\n",
       "      <th>9</th>\n",
       "      <td>هذا الي انا محيرني</td>\n",
       "      <td>AE</td>\n",
       "      <td>هذا محيرني</td>\n",
       "    </tr>\n",
       "  </tbody>\n",
       "</table>\n",
       "</div>"
      ],
      "text/plain": [
       "                                            sentence dialect  \\\n",
       "0  ياخي المدرب أختاره والمدرب دخله والمدرب بارك ا...      AE   \n",
       "1  شو الي قاعد يجري فالنصر يا أخوه خسر المباراة س...      AE   \n",
       "2        الي يبحث عن مشكلة الوصل راح يحصلها فالجولان      AE   \n",
       "3  انا مش معترض على تغير عامر الي دخل مكان عامر ا...      AE   \n",
       "4  تراجع مخيف في مستوى الحارس الكبير ماجد ناصر مش...      AE   \n",
       "5  يا بسومي عموري طلع بموافقة صاحب القرار مش بكيف...      AE   \n",
       "6  خل ينفعكم الي ينابح فالموسم الماضي صراخه وصل ش...      AE   \n",
       "7  لسه بدري عالشتويه قول إن شاءاله بس ما تطلع مشك...      AE   \n",
       "8  ليش متشائم الفريق يوم ما يكون في حالته الفنيه ...      AE   \n",
       "9                                 هذا الي انا محيرني      AE   \n",
       "\n",
       "                                      sentence_clean  \n",
       "0  ياخي المدرب أختاره والمدرب دخله والمدرب بارك ا...  \n",
       "1  شو قاعد يجري فالنصر يا أخوه خسر المباراة سقطة ...  \n",
       "2            يبحث عن مشكلة الوصل راح يحصلها فالجولان  \n",
       "3  مش معترض تغير عامر دخل مكان عامر المفترض ريان ...  \n",
       "4  تراجع مخيف مستوى الحارس الكبير ماجد ناصر مش ما...  \n",
       "5  يا بسومي عموري طلع بموافقة صاحب القرار مش بكيف...  \n",
       "6  خل ينفعكم ينابح فالموسم الماضي صراخه وصل شعم و...  \n",
       "7  لسه بدري عالشتويه قول إن شاءاله بس تطلع مشكلة ...  \n",
       "8  ليش متشائم الفريق يوم يكون حالته الفنيه والذهن...  \n",
       "9                                         هذا محيرني  "
      ]
     },
     "execution_count": 6,
     "metadata": {},
     "output_type": "execute_result"
    }
   ],
   "source": [
    "wrds = ['مع','لا','على','من','ما','في','الي','هو','انا','أنا','اله']\n",
    "data[\"sentence_clean\"] = data[\"sentence\"].apply(lambda x: freq_words_removal(x, wrds))\n",
    "data = data.fillna('')\n",
    "data.head(10)"
   ]
  },
  {
   "cell_type": "code",
   "execution_count": 7,
   "id": "7b83c736-1648-44fd-a4b8-fe7801b3a0f3",
   "metadata": {
    "tags": []
   },
   "outputs": [
    {
     "data": {
      "text/plain": [
       "<AxesSubplot: >"
      ]
     },
     "execution_count": 7,
     "metadata": {},
     "output_type": "execute_result"
    },
    {
     "data": {
      "image/png": "[encoded data removed]",
      "text/plain": [
       "<Figure size 1200x800 with 1 Axes>"
      ]
     },
     "metadata": {},
     "output_type": "display_data"
    }
   ],
   "source": [
    "from collections import Counter\n",
    "\n",
    "all_words = ' '.join([text for text in data['sentence_clean']])\n",
    "all_words = all_words.split()\n",
    "\n",
    "Counter = Counter(all_words)\n",
    "most_common = Counter.most_common()\n",
    "x, y = [], []\n",
    "for word, count in most_common[:40]:\n",
    "    word=bidialg.get_display(arabic_reshaper.reshape(word))\n",
    "    x.append(word)\n",
    "    y.append(count)\n",
    "\n",
    "plt.figure(figsize=(15, 10), dpi=80)\n",
    "sns.barplot(x=y,y=x)"
   ]
  },
  {
   "cell_type": "code",
   "execution_count": 8,
   "id": "8b51f613-80bc-40b4-8840-390743da608e",
   "metadata": {
    "tags": []
   },
   "outputs": [],
   "source": [
    "data.to_csv('../data/new_arabic_dialect_dataset.csv', index = False)"
   ]
  }
 ],
 "metadata": {
  "kernelspec": {
   "display_name": "Python 3 (ipykernel)",
   "language": "python",
   "name": "python3"
  },
  "language_info": {
   "codemirror_mode": {
    "name": "ipython",
    "version": 3
   },
   "file_extension": ".py",
   "mimetype": "text/x-python",
   "name": "python",
   "nbconvert_exporter": "python",
   "pygments_lexer": "ipython3",
   "version": "3.11.1"
  }
 },
 "nbformat": 4,
 "nbformat_minor": 5
}
